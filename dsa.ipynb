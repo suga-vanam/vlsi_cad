{
 "cells": [
  {
   "cell_type": "code",
   "execution_count": 12,
   "metadata": {},
   "outputs": [
    {
     "name": "stdout",
     "output_type": "stream",
     "text": [
      "1\n",
      "3\n",
      "4\n"
     ]
    }
   ],
   "source": [
    "array = [1,2,3,4]\n",
    "array.pop(1)\n",
    " \n",
    "for i in range(0,len(array)):\n",
    "    print(array[i])"
   ]
  },
  {
   "cell_type": "code",
   "execution_count": 14,
   "metadata": {},
   "outputs": [
    {
     "name": "stdout",
     "output_type": "stream",
     "text": [
      "[0, 10, 20, 30, 40, 50, 60, 70, 80, 90]\n"
     ]
    }
   ],
   "source": [
    "x = list(range(0,100,10))\n",
    "print(x)"
   ]
  },
  {
   "cell_type": "code",
   "execution_count": 15,
   "metadata": {},
   "outputs": [
    {
     "name": "stdout",
     "output_type": "stream",
     "text": [
      "[90, 80, 70, 60, 50, 40, 30, 20, 10, 0]\n"
     ]
    }
   ],
   "source": [
    "y = x[::-1]\n",
    "print(y)"
   ]
  },
  {
   "cell_type": "code",
   "execution_count": 19,
   "metadata": {},
   "outputs": [
    {
     "name": "stdout",
     "output_type": "stream",
     "text": [
      "found 2\n"
     ]
    }
   ],
   "source": [
    "x = list(range(0,100,1))\n",
    "index = 2\n",
    "for i in range (0,len(x)):\n",
    "    if x[i]==index:\n",
    "        print(\"found\",index)\n",
    "        "
   ]
  },
  {
   "cell_type": "code",
   "execution_count": 20,
   "metadata": {},
   "outputs": [
    {
     "name": "stdout",
     "output_type": "stream",
     "text": [
      "5 10 15 20 \n"
     ]
    }
   ],
   "source": [
    "class Node:\n",
    "    def __init__(self, data):\n",
    "        self.data = data\n",
    "        self.next = None\n",
    "\n",
    "class LinkedList:\n",
    "    def __init__(self):\n",
    "        self.head = None\n",
    "\n",
    "    def add_node(self, data):\n",
    "        new_node = Node(data)\n",
    "\n",
    "        if self.head is None:\n",
    "            self.head = new_node\n",
    "        else:\n",
    "            current = self.head\n",
    "            while current.next:\n",
    "                current = current.next\n",
    "            current.next = new_node\n",
    "\n",
    "    def display(self):\n",
    "        current = self.head\n",
    "        while current:\n",
    "            print(current.data, end=\" \")\n",
    "            current = current.next\n",
    "        print()\n",
    "\n",
    "# Create an instance of the LinkedList class\n",
    "my_list = LinkedList()\n",
    "\n",
    "# Add nodes to the linked list\n",
    "my_list.add_node(5)\n",
    "my_list.add_node(10)\n",
    "my_list.add_node(15)\n",
    "my_list.add_node(20)\n",
    "\n",
    "# Display the linked list\n",
    "my_list.display()\n"
   ]
  },
  {
   "cell_type": "code",
   "execution_count": 5,
   "metadata": {},
   "outputs": [
    {
     "name": "stdout",
     "output_type": "stream",
     "text": [
      "a\n",
      "b\n",
      "e\n",
      "c\n",
      "d\n"
     ]
    }
   ],
   "source": [
    "graph = {\n",
    "    'a':['b','c','d'], 'b':['e'], 'c':['d','e'], 'd': [], 'e': []\n",
    "}\n",
    "\n",
    "visited = set( )\n",
    "\n",
    "def dfs(visited, graph, root):\n",
    "    if root not in visited: \n",
    "        print(root)\n",
    "        visited.add(root)\n",
    "        for neighbour in graph[root]: \n",
    "            dfs(visited,graph,neighbour)\n",
    "\n",
    "dfs(visited, graph, 'a')"
   ]
  },
  {
   "cell_type": "code",
   "execution_count": 5,
   "metadata": {},
   "outputs": [
    {
     "name": "stdout",
     "output_type": "stream",
     "text": [
      "A\n",
      "B\n",
      "C\n",
      "D\n",
      "E\n",
      "F\n",
      "G\n"
     ]
    }
   ],
   "source": [
    "\n",
    "\n",
    "class Node: \n",
    "    def __init__(self, value,left=None, right=None):\n",
    "        self.value = value\n",
    "        self.right = right\n",
    "        self.left = left\n",
    "    def __str__(self): \n",
    "        return str(self.value)\n",
    "    \n",
    "def bfs(node,queue):\n",
    "    queue.append(node)\n",
    "    while len(queue) > 0: \n",
    "        node = queue.pop(0)\n",
    "        if node is not None: \n",
    "            queue.append(node.left)\n",
    "            queue.append(node.right)\n",
    "            print(node)\n",
    "\n",
    "tree = Node('A', Node('B', Node('D'),Node('E')),Node('C',Node('F'),Node('G')))\n",
    "\n",
    "bfs(tree,[])\n"
   ]
  },
  {
   "cell_type": "code",
   "execution_count": null,
   "metadata": {},
   "outputs": [],
   "source": []
  },
  {
   "cell_type": "code",
   "execution_count": null,
   "metadata": {},
   "outputs": [],
   "source": []
  },
  {
   "cell_type": "code",
   "execution_count": null,
   "metadata": {},
   "outputs": [],
   "source": []
  }
 ],
 "metadata": {
  "kernelspec": {
   "display_name": "Python 3",
   "language": "python",
   "name": "python3"
  },
  "language_info": {
   "codemirror_mode": {
    "name": "ipython",
    "version": 3
   },
   "file_extension": ".py",
   "mimetype": "text/x-python",
   "name": "python",
   "nbconvert_exporter": "python",
   "pygments_lexer": "ipython3",
   "version": "3.9.6"
  },
  "orig_nbformat": 4
 },
 "nbformat": 4,
 "nbformat_minor": 2
}

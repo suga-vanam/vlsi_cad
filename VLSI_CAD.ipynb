{
 "cells": [
  {
   "cell_type": "code",
   "execution_count": 1,
   "metadata": {},
   "outputs": [
    {
     "name": "stdout",
     "output_type": "stream",
     "text": [
      "A\n",
      "B\n",
      "C\n",
      "D\n",
      "E\n",
      "F\n",
      "G\n"
     ]
    }
   ],
   "source": [
    "#bfs \n",
    "class Node: \n",
    "    def __init__(self, value,left=None, right=None):\n",
    "        self.value = value\n",
    "        self.right = right\n",
    "        self.left = left\n",
    "    def __str__(self): \n",
    "        return str(self.value)\n",
    "    \n",
    "def bfs(node,queue):\n",
    "    queue.append(node)\n",
    "    while len(queue) > 0: \n",
    "        node = queue.pop(0)\n",
    "        if node is not None: \n",
    "            queue.append(node.left)\n",
    "            queue.append(node.right)\n",
    "            print(node)\n",
    "\n",
    "tree = Node('A', Node('B', Node('D'),Node('E')),Node('C',Node('F'),Node('G')))\n",
    "\n",
    "bfs(tree,[])\n"
   ]
  },
  {
   "cell_type": "code",
   "execution_count": 2,
   "metadata": {},
   "outputs": [
    {
     "name": "stdout",
     "output_type": "stream",
     "text": [
      "a\n",
      "b\n",
      "e\n",
      "c\n",
      "d\n"
     ]
    }
   ],
   "source": [
    "#dfs \n",
    "\n",
    "graph = {\n",
    "    'a':['b','c','d'], 'b':['e'], 'c':['d','e'], 'd': [], 'e': []\n",
    "}\n",
    "\n",
    "visited = set( )\n",
    "\n",
    "def dfs(visited, graph, root):\n",
    "    if root not in visited: \n",
    "        print(root)\n",
    "        visited.add(root)\n",
    "        for neighbour in graph[root]: \n",
    "            dfs(visited,graph,neighbour)\n",
    "\n",
    "dfs(visited, graph, 'a')"
   ]
  },
  {
   "cell_type": "code",
   "execution_count": null,
   "metadata": {},
   "outputs": [],
   "source": []
  }
 ],
 "metadata": {
  "kernelspec": {
   "display_name": "Python 3",
   "language": "python",
   "name": "python3"
  },
  "language_info": {
   "codemirror_mode": {
    "name": "ipython",
    "version": 3
   },
   "file_extension": ".py",
   "mimetype": "text/x-python",
   "name": "python",
   "nbconvert_exporter": "python",
   "pygments_lexer": "ipython3",
   "version": "3.9.6"
  }
 },
 "nbformat": 4,
 "nbformat_minor": 2
}
